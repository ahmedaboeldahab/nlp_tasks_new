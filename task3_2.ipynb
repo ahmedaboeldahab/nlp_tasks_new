{
 "cells": [
  {
   "cell_type": "code",
   "execution_count": 3,
   "metadata": {},
   "outputs": [
    {
     "name": "stderr",
     "output_type": "stream",
     "text": [
      "[nltk_data] Downloading package punkt to\n",
      "[nltk_data]     C:\\Users\\TOSHIBA\\AppData\\Roaming\\nltk_data...\n",
      "[nltk_data]   Package punkt is already up-to-date!\n",
      "[nltk_data] Downloading package averaged_perceptron_tagger to\n",
      "[nltk_data]     C:\\Users\\TOSHIBA\\AppData\\Roaming\\nltk_data...\n",
      "[nltk_data]   Package averaged_perceptron_tagger is already up-to-\n",
      "[nltk_data]       date!\n",
      "[nltk_data] Downloading package universal_tagset to\n",
      "[nltk_data]     C:\\Users\\TOSHIBA\\AppData\\Roaming\\nltk_data...\n",
      "[nltk_data]   Package universal_tagset is already up-to-date!\n"
     ]
    },
    {
     "name": "stdout",
     "output_type": "stream",
     "text": [
      "\n",
      "POS tagging using Universal tagset:\n",
      "The: DET\n",
      "quick: ADJ\n",
      "brown: NOUN\n",
      "fox: NOUN\n",
      "jumps: VERB\n",
      "over: ADP\n",
      "the: DET\n",
      "lazy: ADJ\n",
      "dog: NOUN\n",
      ".: .\n",
      "\n",
      "POS tagging using Penn Treebank tagset:\n",
      "The: DT\n",
      "quick: JJ\n",
      "brown: NN\n",
      "fox: NN\n",
      "jumps: VBZ\n",
      "over: IN\n",
      "the: DT\n",
      "lazy: JJ\n",
      "dog: NN\n",
      ".: .\n"
     ]
    }
   ],
   "source": [
    "import nltk\n",
    "\n",
    "user_text = input(\"Enter some text: \")\n",
    "\n",
    "universal_tags = nltk.pos_tag(nltk.word_tokenize(user_text), tagset='universal')\n",
    "\n",
    "penn_tags = nltk.pos_tag(nltk.word_tokenize(user_text))\n",
    "\n",
    "print(\"\\nPOS tagging using Universal tagset:\")\n",
    "for word, tag in universal_tags:\n",
    "    print(f\"{word}: {tag}\")\n",
    "\n",
    "print(\"\\nPOS tagging using Penn Treebank tagset:\")\n",
    "for word, tag in penn_tags:\n",
    "    print(f\"{word}: {tag}\")\n",
    "\n",
    "\n"
   ]
  }
 ],
 "metadata": {
  "kernelspec": {
   "display_name": "Python 3",
   "language": "python",
   "name": "python3"
  },
  "language_info": {
   "codemirror_mode": {
    "name": "ipython",
    "version": 3
   },
   "file_extension": ".py",
   "mimetype": "text/x-python",
   "name": "python",
   "nbconvert_exporter": "python",
   "pygments_lexer": "ipython3",
   "version": "3.11.5"
  }
 },
 "nbformat": 4,
 "nbformat_minor": 2
}
